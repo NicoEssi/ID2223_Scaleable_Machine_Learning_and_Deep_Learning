{
  "nbformat": 4,
  "nbformat_minor": 0,
  "metadata": {
    "colab": {
      "name": "sparkml_lab.ipynb",
      "provenance": [],
      "collapsed_sections": [
        "sngGYe4E6kZA",
        "vos4UC6uWi_P",
        "4udTPSeXNb2c",
        "SM1tjlaoNYsM"
      ],
      "toc_visible": true
    },
    "kernelspec": {
      "name": "python3",
      "display_name": "Python 3"
    }
  },
  "cells": [
    {
      "cell_type": "markdown",
      "metadata": {
        "id": "sngGYe4E6kZA",
        "colab_type": "text"
      },
      "source": [
        "# 0. Dependencies & Setup"
      ]
    },
    {
      "cell_type": "markdown",
      "metadata": {
        "id": "vos4UC6uWi_P",
        "colab_type": "text"
      },
      "source": [
        "## 0.1. Related dependencies and environment variables"
      ]
    },
    {
      "cell_type": "code",
      "metadata": {
        "id": "9MLw08R56jgg",
        "colab_type": "code",
        "colab": {
          "base_uri": "https://localhost:8080/",
          "height": 238
        },
        "outputId": "2733a0df-ca14-4509-c393-aa0bae05afcc"
      },
      "source": [
        "# Install spark-related dependencies\n",
        "!apt-get install openjdk-8-jdk-headless -qq > /dev/null\n",
        "!wget -q http://mirrors.viethosting.com/apache/spark/spark-2.4.4/spark-2.4.4-bin-hadoop2.7.tgz\n",
        "!tar xf spark-2.4.4-bin-hadoop2.7.tgz\n",
        "\n",
        "!pip install -q findspark\n",
        "!pip install pyspark\n",
        "\n",
        "# Set up required environment variables\n",
        "import os\n",
        "os.environ[\"JAVA_HOME\"] = \"/usr/lib/jvm/java-8-openjdk-amd64\"\n",
        "os.environ[\"SPARK_HOME\"] = \"/content/spark-2.4.3-bin-hadoop2.7\""
      ],
      "execution_count": 1,
      "outputs": [
        {
          "output_type": "stream",
          "text": [
            "Collecting pyspark\n",
            "\u001b[?25l  Downloading https://files.pythonhosted.org/packages/87/21/f05c186f4ddb01d15d0ddc36ef4b7e3cedbeb6412274a41f26b55a650ee5/pyspark-2.4.4.tar.gz (215.7MB)\n",
            "\u001b[K     |████████████████████████████████| 215.7MB 62kB/s \n",
            "\u001b[?25hCollecting py4j==0.10.7\n",
            "\u001b[?25l  Downloading https://files.pythonhosted.org/packages/e3/53/c737818eb9a7dc32a7cd4f1396e787bd94200c3997c72c1dbe028587bd76/py4j-0.10.7-py2.py3-none-any.whl (197kB)\n",
            "\u001b[K     |████████████████████████████████| 204kB 37.9MB/s \n",
            "\u001b[?25hBuilding wheels for collected packages: pyspark\n",
            "  Building wheel for pyspark (setup.py) ... \u001b[?25l\u001b[?25hdone\n",
            "  Created wheel for pyspark: filename=pyspark-2.4.4-py2.py3-none-any.whl size=216130387 sha256=ee7f2262fa69938a63b30ef25d70732284eb8cde7cf37092f6274c450052c9b4\n",
            "  Stored in directory: /root/.cache/pip/wheels/ab/09/4d/0d184230058e654eb1b04467dbc1292f00eaa186544604b471\n",
            "Successfully built pyspark\n",
            "Installing collected packages: py4j, pyspark\n",
            "Successfully installed py4j-0.10.7 pyspark-2.4.4\n"
          ],
          "name": "stdout"
        }
      ]
    },
    {
      "cell_type": "markdown",
      "metadata": {
        "id": "4udTPSeXNb2c",
        "colab_type": "text"
      },
      "source": [
        "## 0.2. Initialize Spark"
      ]
    },
    {
      "cell_type": "code",
      "metadata": {
        "id": "Tperr2jL6s5x",
        "colab_type": "code",
        "colab": {
          "base_uri": "https://localhost:8080/",
          "height": 187
        },
        "outputId": "9323a7ac-ca7d-46ca-bcd5-fdfac00bb70c"
      },
      "source": [
        "import findspark\n",
        "findspark.init('spark-2.4.4-bin-hadoop2.7')\n",
        " \n",
        "import pyspark\n",
        "from pyspark import SparkConf\n",
        "from pyspark.sql import SparkSession\n",
        "\n",
        "spark = SparkSession \\\n",
        ".builder \\\n",
        ".appName(\"sparkml_lab\") \\\n",
        ".master(\"local[*]\") \\\n",
        ".getOrCreate()\n",
        "\n",
        "# Check\n",
        "spark.sparkContext.getConf().getAll()"
      ],
      "execution_count": 2,
      "outputs": [
        {
          "output_type": "execute_result",
          "data": {
            "text/plain": [
              "[('spark.app.id', 'local-1574296037224'),\n",
              " ('spark.rdd.compress', 'True'),\n",
              " ('spark.app.name', 'sparkml_lab'),\n",
              " ('spark.serializer.objectStreamReset', '100'),\n",
              " ('spark.master', 'local[*]'),\n",
              " ('spark.executor.id', 'driver'),\n",
              " ('spark.submit.deployMode', 'client'),\n",
              " ('spark.driver.port', '37103'),\n",
              " ('spark.ui.showConsoleProgress', 'true'),\n",
              " ('spark.driver.host', '9cade6b8ecb1')]"
            ]
          },
          "metadata": {
            "tags": []
          },
          "execution_count": 2
        }
      ]
    },
    {
      "cell_type": "code",
      "metadata": {
        "id": "Btng7cqIW034",
        "colab_type": "code",
        "colab": {
          "base_uri": "https://localhost:8080/",
          "height": 216
        },
        "outputId": "ce5cc993-72e9-4b69-eef8-fc77d342ae89"
      },
      "source": [
        "spark"
      ],
      "execution_count": 3,
      "outputs": [
        {
          "output_type": "execute_result",
          "data": {
            "text/html": [
              "\n",
              "            <div>\n",
              "                <p><b>SparkSession - in-memory</b></p>\n",
              "                \n",
              "        <div>\n",
              "            <p><b>SparkContext</b></p>\n",
              "\n",
              "            <p><a href=\"http://9cade6b8ecb1:4040\">Spark UI</a></p>\n",
              "\n",
              "            <dl>\n",
              "              <dt>Version</dt>\n",
              "                <dd><code>v2.4.4</code></dd>\n",
              "              <dt>Master</dt>\n",
              "                <dd><code>local[*]</code></dd>\n",
              "              <dt>AppName</dt>\n",
              "                <dd><code>sparkml_lab</code></dd>\n",
              "            </dl>\n",
              "        </div>\n",
              "        \n",
              "            </div>\n",
              "        "
            ],
            "text/plain": [
              "<pyspark.sql.session.SparkSession at 0x7f3d558cebe0>"
            ]
          },
          "metadata": {
            "tags": []
          },
          "execution_count": 3
        }
      ]
    },
    {
      "cell_type": "markdown",
      "metadata": {
        "id": "SM1tjlaoNYsM",
        "colab_type": "text"
      },
      "source": [
        "# 1. Import Housing Dataset"
      ]
    },
    {
      "cell_type": "code",
      "metadata": {
        "id": "MR2xI-PYNYQk",
        "colab_type": "code",
        "colab": {
          "base_uri": "https://localhost:8080/",
          "height": 336
        },
        "outputId": "af4ef8ce-85ff-430b-b53f-d37451004e8d"
      },
      "source": [
        "import tarfile\n",
        "import urllib\n",
        "\n",
        "DOWNLOAD_ROOT = \"https://raw.githubusercontent.com/ageron/handson-ml2/master/\"\n",
        "HOUSING_PATH = os.path.join(\"datasets\", \"housing\")\n",
        "HOUSING_URL = DOWNLOAD_ROOT + \"datasets/housing/housing.tgz\"\n",
        "\n",
        "def fetch_housing_data(housing_url=HOUSING_URL, housing_path=HOUSING_PATH):\n",
        "    os.makedirs(housing_path, exist_ok=True)\n",
        "    tgz_path = os.path.join(housing_path, \"housing.tgz\")\n",
        "    urllib.request.urlretrieve(housing_url, tgz_path)\n",
        "    housing_tgz = tarfile.open(tgz_path)\n",
        "    housing_tgz.extractall(path=housing_path)\n",
        "    housing_tgz.close()\n",
        "\n",
        "fetch_housing_data()"
      ],
      "execution_count": 4,
      "outputs": [
        {
          "output_type": "error",
          "ename": "TypeError",
          "evalue": "ignored",
          "traceback": [
            "\u001b[0;31m---------------------------------------------------------------------------\u001b[0m",
            "\u001b[0;31mTypeError\u001b[0m                                 Traceback (most recent call last)",
            "\u001b[0;32m<ipython-input-4-85af6cb7d48a>\u001b[0m in \u001b[0;36m<module>\u001b[0;34m()\u001b[0m\n\u001b[1;32m     22\u001b[0m \u001b[0mhousing_data\u001b[0m \u001b[0;34m=\u001b[0m \u001b[0mload_housing_data\u001b[0m\u001b[0;34m(\u001b[0m\u001b[0;34m)\u001b[0m\u001b[0;34m\u001b[0m\u001b[0;34m\u001b[0m\u001b[0m\n\u001b[1;32m     23\u001b[0m \u001b[0;34m\u001b[0m\u001b[0m\n\u001b[0;32m---> 24\u001b[0;31m \u001b[0mhousing\u001b[0m \u001b[0;34m=\u001b[0m \u001b[0mspark\u001b[0m\u001b[0;34m.\u001b[0m\u001b[0mread\u001b[0m\u001b[0;34m.\u001b[0m\u001b[0mcsv\u001b[0m\u001b[0;34m(\u001b[0m\u001b[0mhousing_data\u001b[0m\u001b[0;34m,\u001b[0m \u001b[0mheader\u001b[0m \u001b[0;34m=\u001b[0m \u001b[0;32mTrue\u001b[0m\u001b[0;34m)\u001b[0m\u001b[0;34m\u001b[0m\u001b[0;34m\u001b[0m\u001b[0m\n\u001b[0m",
            "\u001b[0;32m/content/spark-2.4.4-bin-hadoop2.7/python/pyspark/sql/readwriter.py\u001b[0m in \u001b[0;36mcsv\u001b[0;34m(self, path, schema, sep, encoding, quote, escape, comment, header, inferSchema, ignoreLeadingWhiteSpace, ignoreTrailingWhiteSpace, nullValue, nanValue, positiveInf, negativeInf, dateFormat, timestampFormat, maxColumns, maxCharsPerColumn, maxMalformedLogPerPartition, mode, columnNameOfCorruptRecord, multiLine, charToEscapeQuoteEscaping, samplingRatio, enforceSchema, emptyValue)\u001b[0m\n\u001b[1;32m    495\u001b[0m             \u001b[0;32mreturn\u001b[0m \u001b[0mself\u001b[0m\u001b[0;34m.\u001b[0m\u001b[0m_df\u001b[0m\u001b[0;34m(\u001b[0m\u001b[0mself\u001b[0m\u001b[0;34m.\u001b[0m\u001b[0m_jreader\u001b[0m\u001b[0;34m.\u001b[0m\u001b[0mcsv\u001b[0m\u001b[0;34m(\u001b[0m\u001b[0mjdataset\u001b[0m\u001b[0;34m)\u001b[0m\u001b[0;34m)\u001b[0m\u001b[0;34m\u001b[0m\u001b[0;34m\u001b[0m\u001b[0m\n\u001b[1;32m    496\u001b[0m         \u001b[0;32melse\u001b[0m\u001b[0;34m:\u001b[0m\u001b[0;34m\u001b[0m\u001b[0;34m\u001b[0m\u001b[0m\n\u001b[0;32m--> 497\u001b[0;31m             \u001b[0;32mraise\u001b[0m \u001b[0mTypeError\u001b[0m\u001b[0;34m(\u001b[0m\u001b[0;34m\"path can be only string, list or RDD\"\u001b[0m\u001b[0;34m)\u001b[0m\u001b[0;34m\u001b[0m\u001b[0;34m\u001b[0m\u001b[0m\n\u001b[0m\u001b[1;32m    498\u001b[0m \u001b[0;34m\u001b[0m\u001b[0m\n\u001b[1;32m    499\u001b[0m     \u001b[0;34m@\u001b[0m\u001b[0msince\u001b[0m\u001b[0;34m(\u001b[0m\u001b[0;36m1.5\u001b[0m\u001b[0;34m)\u001b[0m\u001b[0;34m\u001b[0m\u001b[0;34m\u001b[0m\u001b[0m\n",
            "\u001b[0;31mTypeError\u001b[0m: path can be only string, list or RDD"
          ]
        }
      ]
    },
    {
      "cell_type": "markdown",
      "metadata": {
        "id": "jDFRmpEbVpcH",
        "colab_type": "text"
      },
      "source": [
        "# 2. Data Discovery"
      ]
    },
    {
      "cell_type": "code",
      "metadata": {
        "id": "Nn73Qh56Vbye",
        "colab_type": "code",
        "colab": {}
      },
      "source": [
        "housing = spark.read.csv(\"/content/datasets/housing/housing.csv\", header = True)"
      ],
      "execution_count": 0,
      "outputs": []
    },
    {
      "cell_type": "markdown",
      "metadata": {
        "id": "TZ8K_oqxVzPo",
        "colab_type": "text"
      },
      "source": [
        "## 2.1. Schema and dimensions"
      ]
    },
    {
      "cell_type": "markdown",
      "metadata": {
        "id": "wWMBXQaTWCD5",
        "colab_type": "text"
      },
      "source": [
        "Printing schema of the dataset"
      ]
    },
    {
      "cell_type": "code",
      "metadata": {
        "id": "zD05H8CmVwmX",
        "colab_type": "code",
        "colab": {
          "base_uri": "https://localhost:8080/",
          "height": 221
        },
        "outputId": "1b0945e0-2bdc-41ae-8871-0151592d8296"
      },
      "source": [
        "housing.printSchema()"
      ],
      "execution_count": 8,
      "outputs": [
        {
          "output_type": "stream",
          "text": [
            "root\n",
            " |-- longitude: string (nullable = true)\n",
            " |-- latitude: string (nullable = true)\n",
            " |-- housing_median_age: string (nullable = true)\n",
            " |-- total_rooms: string (nullable = true)\n",
            " |-- total_bedrooms: string (nullable = true)\n",
            " |-- population: string (nullable = true)\n",
            " |-- households: string (nullable = true)\n",
            " |-- median_income: string (nullable = true)\n",
            " |-- median_house_value: string (nullable = true)\n",
            " |-- ocean_proximity: string (nullable = true)\n",
            "\n"
          ],
          "name": "stdout"
        }
      ]
    },
    {
      "cell_type": "markdown",
      "metadata": {
        "id": "UIR0ntqjWGPk",
        "colab_type": "text"
      },
      "source": [
        "Printing number of records in the dataset"
      ]
    },
    {
      "cell_type": "code",
      "metadata": {
        "id": "aSb-HBI7WJr2",
        "colab_type": "code",
        "colab": {
          "base_uri": "https://localhost:8080/",
          "height": 34
        },
        "outputId": "d62bf7b5-68d3-4850-d7c2-50ea2ce1a865"
      },
      "source": [
        "housing.count()"
      ],
      "execution_count": 10,
      "outputs": [
        {
          "output_type": "execute_result",
          "data": {
            "text/plain": [
              "20640"
            ]
          },
          "metadata": {
            "tags": []
          },
          "execution_count": 10
        }
      ]
    },
    {
      "cell_type": "markdown",
      "metadata": {
        "id": "6_aBVAAGWKBL",
        "colab_type": "text"
      },
      "source": [
        "## 2.2. Look at the data"
      ]
    },
    {
      "cell_type": "markdown",
      "metadata": {
        "id": "AtIU7mhQYnOS",
        "colab_type": "text"
      },
      "source": [
        "Printing first five records of the dataset"
      ]
    },
    {
      "cell_type": "code",
      "metadata": {
        "id": "I7B03NWcYljP",
        "colab_type": "code",
        "colab": {
          "base_uri": "https://localhost:8080/",
          "height": 122
        },
        "outputId": "f3931db5-1895-4fd6-d4f8-2f49eecf72fd"
      },
      "source": [
        "housing.take(5)"
      ],
      "execution_count": 11,
      "outputs": [
        {
          "output_type": "execute_result",
          "data": {
            "text/plain": [
              "[Row(longitude='-122.23', latitude='37.88', housing_median_age='41.0', total_rooms='880.0', total_bedrooms='129.0', population='322.0', households='126.0', median_income='8.3252', median_house_value='452600.0', ocean_proximity='NEAR BAY'),\n",
              " Row(longitude='-122.22', latitude='37.86', housing_median_age='21.0', total_rooms='7099.0', total_bedrooms='1106.0', population='2401.0', households='1138.0', median_income='8.3014', median_house_value='358500.0', ocean_proximity='NEAR BAY'),\n",
              " Row(longitude='-122.24', latitude='37.85', housing_median_age='52.0', total_rooms='1467.0', total_bedrooms='190.0', population='496.0', households='177.0', median_income='7.2574', median_house_value='352100.0', ocean_proximity='NEAR BAY'),\n",
              " Row(longitude='-122.25', latitude='37.85', housing_median_age='52.0', total_rooms='1274.0', total_bedrooms='235.0', population='558.0', households='219.0', median_income='5.6431', median_house_value='341300.0', ocean_proximity='NEAR BAY'),\n",
              " Row(longitude='-122.25', latitude='37.85', housing_median_age='52.0', total_rooms='1627.0', total_bedrooms='280.0', population='565.0', households='259.0', median_income='3.8462', median_house_value='342200.0', ocean_proximity='NEAR BAY')]"
            ]
          },
          "metadata": {
            "tags": []
          },
          "execution_count": 11
        }
      ]
    },
    {
      "cell_type": "markdown",
      "metadata": {
        "id": "gcrpy83iZcpQ",
        "colab_type": "text"
      },
      "source": [
        "Printing the number of records with population more than 10000"
      ]
    },
    {
      "cell_type": "code",
      "metadata": {
        "id": "K7nXkBNbZdGJ",
        "colab_type": "code",
        "colab": {
          "base_uri": "https://localhost:8080/",
          "height": 428
        },
        "outputId": "bc8d8e56-1dab-4f66-bf71-fd4a21b4b93f"
      },
      "source": [
        "housing.where(housing.population > 10000).collect()"
      ],
      "execution_count": 56,
      "outputs": [
        {
          "output_type": "execute_result",
          "data": {
            "text/plain": [
              "[Row(longitude='-121.92', latitude='37.53', housing_median_age='7.0', total_rooms='28258.0', total_bedrooms='3864.0', population='12203.0', households='3701.0', median_income='8.4045', median_house_value='451100.0', ocean_proximity='<1H OCEAN'),\n",
              " Row(longitude='-117.78', latitude='34.03', housing_median_age='8.0', total_rooms='32054.0', total_bedrooms='5290.0', population='15507.0', households='5050.0', median_income='6.0191', median_house_value='253900.0', ocean_proximity='<1H OCEAN'),\n",
              " Row(longitude='-117.87', latitude='34.04', housing_median_age='7.0', total_rooms='27700.0', total_bedrooms='4179.0', population='15037.0', households='4072.0', median_income='6.6288', median_house_value='339700.0', ocean_proximity='<1H OCEAN'),\n",
              " Row(longitude='-117.88', latitude='33.96', housing_median_age='16.0', total_rooms='19059.0', total_bedrooms='3079.0', population='10988.0', households='3061.0', median_income='5.5469', median_house_value='265200.0', ocean_proximity='<1H OCEAN'),\n",
              " Row(longitude='-118.78', latitude='34.16', housing_median_age='9.0', total_rooms='30405.0', total_bedrooms='4093.0', population='12873.0', households='3931.0', median_income='8.0137', median_house_value='399200.0', ocean_proximity='NEAR OCEAN'),\n",
              " Row(longitude='-118.09', latitude='34.68', housing_median_age='4.0', total_rooms='23386.0', total_bedrooms='4171.0', population='10493.0', households='3671.0', median_income='4.0211', median_house_value='144000.0', ocean_proximity='INLAND'),\n",
              " Row(longitude='-118.1', latitude='34.57', housing_median_age='7.0', total_rooms='20377.0', total_bedrooms='4335.0', population='11973.0', households='3933.0', median_income='3.3086', median_house_value='138100.0', ocean_proximity='INLAND'),\n",
              " Row(longitude='-118.46', latitude='34.4', housing_median_age='12.0', total_rooms='25957.0', total_bedrooms='4798.0', population='10475.0', households='4490.0', median_income='4.542', median_house_value='195300.0', ocean_proximity='<1H OCEAN'),\n",
              " Row(longitude='-121.61', latitude='36.69', housing_median_age='19.0', total_rooms='9899.0', total_bedrooms='2617.0', population='11272.0', households='2528.0', median_income='2.0244', median_house_value='118500.0', ocean_proximity='<1H OCEAN'),\n",
              " Row(longitude='-121.68', latitude='36.72', housing_median_age='12.0', total_rooms='19234.0', total_bedrooms='4492.0', population='12153.0', households='4372.0', median_income='3.2652', median_house_value='152800.0', ocean_proximity='<1H OCEAN'),\n",
              " Row(longitude='-121.79', latitude='36.64', housing_median_age='11.0', total_rooms='32627.0', total_bedrooms='6445.0', population='28566.0', households='6082.0', median_income='2.3087', median_house_value='118800.0', ocean_proximity='<1H OCEAN'),\n",
              " Row(longitude='-117.74', latitude='33.89', housing_median_age='4.0', total_rooms='37937.0', total_bedrooms='5471.0', population='16122.0', households='5189.0', median_income='7.4947', median_house_value='366300.0', ocean_proximity='<1H OCEAN'),\n",
              " Row(longitude='-117.12', latitude='33.52', housing_median_age='4.0', total_rooms='30401.0', total_bedrooms='4957.0', population='13251.0', households='4339.0', median_income='4.5841', median_house_value='212300.0', ocean_proximity='<1H OCEAN'),\n",
              " Row(longitude='-121.53', latitude='38.48', housing_median_age='5.0', total_rooms='27870.0', total_bedrooms='5027.0', population='11935.0', households='4855.0', median_income='4.8811', median_house_value='212200.0', ocean_proximity='INLAND'),\n",
              " Row(longitude='-121.4', latitude='38.47', housing_median_age='4.0', total_rooms='20982.0', total_bedrooms='3392.0', population='10329.0', households='3086.0', median_income='4.3658', median_house_value='130600.0', ocean_proximity='INLAND'),\n",
              " Row(longitude='-121.44', latitude='38.43', housing_median_age='3.0', total_rooms='39320.0', total_bedrooms='6210.0', population='16305.0', households='5358.0', median_income='4.9516', median_house_value='153700.0', ocean_proximity='INLAND'),\n",
              " Row(longitude='-117.75', latitude='34.01', housing_median_age='4.0', total_rooms='22128.0', total_bedrooms='3522.0', population='10450.0', households='3258.0', median_income='6.1287', median_house_value='289600.0', ocean_proximity='<1H OCEAN'),\n",
              " Row(longitude='-117.61', latitude='34.1', housing_median_age='9.0', total_rooms='18956.0', total_bedrooms='4095.0', population='10323.0', households='3832.0', median_income='3.6033', median_house_value='132600.0', ocean_proximity='INLAND'),\n",
              " Row(longitude='-116.14', latitude='34.45', housing_median_age='12.0', total_rooms='8796.0', total_bedrooms='1721.0', population='11139.0', households='1680.0', median_income='2.2612', median_house_value='137500.0', ocean_proximity='INLAND'),\n",
              " Row(longitude='-117.42', latitude='33.35', housing_median_age='14.0', total_rooms='25135.0', total_bedrooms='4819.0', population='35682.0', households='4769.0', median_income='2.5729', median_house_value='134400.0', ocean_proximity='<1H OCEAN'),\n",
              " Row(longitude='-117.27', latitude='33.15', housing_median_age='4.0', total_rooms='23915.0', total_bedrooms='4135.0', population='10877.0', households='3958.0', median_income='4.6357', median_house_value='244900.0', ocean_proximity='NEAR OCEAN'),\n",
              " Row(longitude='-120.59', latitude='34.7', housing_median_age='29.0', total_rooms='17738.0', total_bedrooms='3114.0', population='12427.0', households='2826.0', median_income='2.7377', median_house_value='28300.0', ocean_proximity='NEAR OCEAN'),\n",
              " Row(longitude='-118.9', latitude='34.26', housing_median_age='5.0', total_rooms='25187.0', total_bedrooms='3521.0', population='11956.0', households='3478.0', median_income='6.9712', median_house_value='321300.0', ocean_proximity='<1H OCEAN')]"
            ]
          },
          "metadata": {
            "tags": []
          },
          "execution_count": 56
        }
      ]
    },
    {
      "cell_type": "markdown",
      "metadata": {
        "id": "YVJ1Oq01dTE-",
        "colab_type": "text"
      },
      "source": [
        "## 2.3. Statistical summary"
      ]
    },
    {
      "cell_type": "markdown",
      "metadata": {
        "id": "Ys_fU2SNdagl",
        "colab_type": "text"
      },
      "source": [
        "Printing summary of the table statistics for the attributes housing_median_age, total_rooms, median_house_value, and population."
      ]
    },
    {
      "cell_type": "code",
      "metadata": {
        "id": "g5vmbDWgda3y",
        "colab_type": "code",
        "colab": {
          "base_uri": "https://localhost:8080/",
          "height": 187
        },
        "outputId": "ac9eb0e4-259d-46ff-aaef-d2eaf1450ac7"
      },
      "source": [
        "housing.describe([\"housing_median_age\", \"total_rooms\", \"median_house_value\", \"population\"]).show()"
      ],
      "execution_count": 16,
      "outputs": [
        {
          "output_type": "stream",
          "text": [
            "+-------+------------------+------------------+------------------+------------------+\n",
            "|summary|housing_median_age|       total_rooms|median_house_value|        population|\n",
            "+-------+------------------+------------------+------------------+------------------+\n",
            "|  count|             20640|             20640|             20640|             20640|\n",
            "|   mean|28.639486434108527|2635.7630813953488|206855.81690891474|1425.4767441860465|\n",
            "| stddev| 12.58555761211163|2181.6152515827944|115395.61587441359|  1132.46212176534|\n",
            "|    min|               1.0|             100.0|          100000.0|             100.0|\n",
            "|    max|               9.0|            9998.0|           99900.0|             999.0|\n",
            "+-------+------------------+------------------+------------------+------------------+\n",
            "\n"
          ],
          "name": "stdout"
        }
      ]
    },
    {
      "cell_type": "markdown",
      "metadata": {
        "id": "PEc9vwVWdgpl",
        "colab_type": "text"
      },
      "source": [
        "Print the maximum age (housing_median_age), the minimum number of rooms (total_rooms), and the average of house values (median_house_value)."
      ]
    },
    {
      "cell_type": "code",
      "metadata": {
        "id": "L73GSJtPdjwn",
        "colab_type": "code",
        "colab": {
          "base_uri": "https://localhost:8080/",
          "height": 68
        },
        "outputId": "0e5e543a-7c6c-4841-9455-893c185b7f9c"
      },
      "source": [
        "value1 = housing.agg({\"housing_median_age\": \"max\"}).collect()[0]\n",
        "value2 = housing.agg({\"total_rooms\" : \"min\"}).collect()[0]\n",
        "value3 = housing.agg({\"median_house_value\" : \"mean\"}).collect()[0]\n",
        "\n",
        "print(\"Maximum housing age: \" + str(value1[\"max(housing_median_age)\"]) + \n",
        "      \"\\nMinimum number of rooms: \" + str(value2[\"min(total_rooms)\"]) +\n",
        "      \"\\nAverage house value: \" + str(value3[\"avg(median_house_value)\"]))"
      ],
      "execution_count": 55,
      "outputs": [
        {
          "output_type": "stream",
          "text": [
            "Maximum housing age: 9.0\n",
            "Minimum number of rooms: 100.0\n",
            "Average house value: 206855.81690891474\n"
          ],
          "name": "stdout"
        }
      ]
    },
    {
      "cell_type": "markdown",
      "metadata": {
        "id": "7vuj2BPqdnD0",
        "colab_type": "text"
      },
      "source": [
        "## 2.4. Data breakdown by categorical data"
      ]
    },
    {
      "cell_type": "markdown",
      "metadata": {
        "id": "w5zlX535drcL",
        "colab_type": "text"
      },
      "source": [
        "Printing the number of houses in different areas (ocean_proximity), and sorted in descending order."
      ]
    },
    {
      "cell_type": "code",
      "metadata": {
        "id": "JU5TB2rBdrwR",
        "colab_type": "code",
        "colab": {
          "base_uri": "https://localhost:8080/",
          "height": 204
        },
        "outputId": "627ef744-f466-4f91-86d3-637f4f9f80e8"
      },
      "source": [
        "housing.cube(\"ocean_proximity\").count().sort('count', ascending=False).show()"
      ],
      "execution_count": 74,
      "outputs": [
        {
          "output_type": "stream",
          "text": [
            "+---------------+-----+\n",
            "|ocean_proximity|count|\n",
            "+---------------+-----+\n",
            "|           null|20640|\n",
            "|      <1H OCEAN| 9136|\n",
            "|         INLAND| 6551|\n",
            "|     NEAR OCEAN| 2658|\n",
            "|       NEAR BAY| 2290|\n",
            "|         ISLAND|    5|\n",
            "+---------------+-----+\n",
            "\n"
          ],
          "name": "stdout"
        }
      ]
    },
    {
      "cell_type": "markdown",
      "metadata": {
        "id": "TY3hDSvjdr_l",
        "colab_type": "text"
      },
      "source": [
        "Printing the average value of the houses (median_house_value) in different areas (ocean_proximity); calling the new column avg_value when printing it."
      ]
    },
    {
      "cell_type": "code",
      "metadata": {
        "id": "mEMBypJKyR-J",
        "colab_type": "code",
        "colab": {
          "base_uri": "https://localhost:8080/",
          "height": 187
        },
        "outputId": "33925ce2-ac8b-4c86-9f96-7fc79cadc84c"
      },
      "source": [
        "from pyspark.sql import functions as F\n",
        "\n",
        "housing.\\\n",
        "select([\"ocean_proximity\", \"median_house_value\"]).\\\n",
        "groupBy(\"ocean_proximity\").\\\n",
        "agg(F.mean(\"median_house_value\").alias(\"avg_value\")).\\\n",
        "show()"
      ],
      "execution_count": 117,
      "outputs": [
        {
          "output_type": "stream",
          "text": [
            "+---------------+------------------+\n",
            "|ocean_proximity|         avg_value|\n",
            "+---------------+------------------+\n",
            "|         ISLAND|          380440.0|\n",
            "|     NEAR OCEAN|249433.97742663656|\n",
            "|       NEAR BAY|259212.31179039303|\n",
            "|      <1H OCEAN|240084.28546409807|\n",
            "|         INLAND|124805.39200122119|\n",
            "+---------------+------------------+\n",
            "\n"
          ],
          "name": "stdout"
        }
      ]
    },
    {
      "cell_type": "markdown",
      "metadata": {
        "id": "IA03bnsFd63G",
        "colab_type": "text"
      },
      "source": [
        "Rewritten in SQL."
      ]
    },
    {
      "cell_type": "code",
      "metadata": {
        "id": "wYUI6IEmd7Pw",
        "colab_type": "code",
        "colab": {
          "base_uri": "https://localhost:8080/",
          "height": 187
        },
        "outputId": "26be2715-1723-4e06-d23b-6573d6de3382"
      },
      "source": [
        "housing.createOrReplaceTempView(\"housing\")\n",
        "spark.sql('''\n",
        "          SELECT ocean_proximity, avg(median_house_value)\n",
        "          AS avg_value\n",
        "          FROM housing\n",
        "          GROUP BY ocean_proximity\n",
        "          ''').show()"
      ],
      "execution_count": 121,
      "outputs": [
        {
          "output_type": "stream",
          "text": [
            "+---------------+------------------+\n",
            "|ocean_proximity|         avg_value|\n",
            "+---------------+------------------+\n",
            "|         ISLAND|          380440.0|\n",
            "|     NEAR OCEAN|249433.97742663656|\n",
            "|       NEAR BAY|259212.31179039303|\n",
            "|      <1H OCEAN|240084.28546409807|\n",
            "|         INLAND|124805.39200122119|\n",
            "+---------------+------------------+\n",
            "\n"
          ],
          "name": "stdout"
        }
      ]
    },
    {
      "cell_type": "markdown",
      "metadata": {
        "id": "oTFtKZngds_8",
        "colab_type": "text"
      },
      "source": [
        "## 2.5. Correlation among attributes"
      ]
    },
    {
      "cell_type": "markdown",
      "metadata": {
        "id": "e7agCNR2dxoX",
        "colab_type": "text"
      },
      "source": [
        "Printing the correlation among the attributes housing_median_age, total_rooms, median_house_value, and population. To do so, first we need to put these attributes into one vector. Then, compute the standard correlation coefficient (Pearson) between every pair of attributes in this new vector. To make a vector of these attributes, we use the VectorAssembler Transformer."
      ]
    },
    {
      "cell_type": "code",
      "metadata": {
        "id": "AVNaKNeRdw2D",
        "colab_type": "code",
        "colab": {}
      },
      "source": [
        ""
      ],
      "execution_count": 0,
      "outputs": []
    },
    {
      "cell_type": "code",
      "metadata": {
        "id": "VR57yX60dyHo",
        "colab_type": "code",
        "colab": {}
      },
      "source": [
        ""
      ],
      "execution_count": 0,
      "outputs": []
    },
    {
      "cell_type": "markdown",
      "metadata": {
        "id": "PFb6pehAdyyT",
        "colab_type": "text"
      },
      "source": [
        "## 2.6. Combine and make new attributes"
      ]
    },
    {
      "cell_type": "markdown",
      "metadata": {
        "id": "Lt8Yy5UKd1Qa",
        "colab_type": "text"
      },
      "source": [
        "Now, let's try out various attribute combinations. In the given dataset, the total number of rooms in a block is not very useful, if we don't know how many households there are. What we really want is the number of rooms per household. Similarly, the total number of bedrooms by itself is not very useful, and we want to compare it to the number of rooms. And the population per household seems like also an interesting attribute combination to look at. To do so, we add the three new columns to the dataset as below. We will call the new dataset the housingExtra.\n",
        "\n",
        "```\n",
        "rooms_per_household = total_rooms / households\n",
        "bedrooms_per_room = total_bedrooms / total_rooms\n",
        "population_per_household = population / households\n",
        "```\n",
        "\n"
      ]
    },
    {
      "cell_type": "code",
      "metadata": {
        "id": "tkuJmTlyd1iJ",
        "colab_type": "code",
        "colab": {}
      },
      "source": [
        ""
      ],
      "execution_count": 0,
      "outputs": []
    },
    {
      "cell_type": "markdown",
      "metadata": {
        "id": "0tmZLVfnek2K",
        "colab_type": "text"
      },
      "source": [
        "# 3. Data Preparation"
      ]
    },
    {
      "cell_type": "markdown",
      "metadata": {
        "id": "D1pBPx_a0ys-",
        "colab_type": "text"
      },
      "source": [
        "To be continued ;)"
      ]
    }
  ]
}